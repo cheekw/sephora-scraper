{
 "cells": [
  {
   "cell_type": "markdown",
   "metadata": {},
   "source": [
    "# Sephora Category Scraping"
   ]
  },
  {
   "cell_type": "code",
   "execution_count": 18,
   "metadata": {},
   "outputs": [],
   "source": [
    "# importing required packages\n",
    "from bs4 import BeautifulSoup\n",
    "import requests\n",
    "import json\n",
    "import re \n",
    "\n",
    "import scrape_tools"
   ]
  },
  {
   "cell_type": "code",
   "execution_count": 19,
   "metadata": {},
   "outputs": [],
   "source": [
    "category_url = 'https://www.sephora.com/shop/acne-products-acne-cream'"
   ]
  },
  {
   "cell_type": "code",
   "execution_count": 20,
   "metadata": {},
   "outputs": [],
   "source": [
    "def parse_category(category_html):\n",
    "    category_script = category_html.find_all('script', {'type' : 'application/ld+json'})[1].contents[0]\n",
    "    product_list = re.findall('(?<=\"sku\":\").*?(?=\\\")', category_script)\n",
    "    return product_list"
   ]
  },
  {
   "cell_type": "code",
   "execution_count": 21,
   "metadata": {},
   "outputs": [],
   "source": [
    "start_url = [\n",
    "    'https://www.sephora.com/shop/acne-products-acne-cream',\n",
    "    'https://www.sephora.com/shop/dark-spot-remover',\n",
    "    'https://www.sephora.com/shop/eye-cream-dark-circles'\n",
    "]\n",
    "\n",
    "category = [\n",
    "    'Acne',\n",
    "    'Dark Spots',\n",
    "    'Dark Circles'\n",
    "]"
   ]
  },
  {
   "cell_type": "code",
   "execution_count": 22,
   "metadata": {},
   "outputs": [],
   "source": [
    "num_pages = []\n",
    "for url in start_url:\n",
    "    sephora_html = scrape_tools.get_html(url)\n",
    "    num_pages.append(scrape_tools.find_num_pages(sephora_html))"
   ]
  },
  {
   "cell_type": "code",
   "execution_count": 23,
   "metadata": {},
   "outputs": [
    {
     "data": {
      "text/plain": [
       "[2, 1, 3]"
      ]
     },
     "execution_count": 23,
     "metadata": {},
     "output_type": "execute_result"
    }
   ],
   "source": [
    "num_pages"
   ]
  },
  {
   "cell_type": "code",
   "execution_count": 24,
   "metadata": {},
   "outputs": [
    {
     "name": "stdout",
     "output_type": "stream",
     "text": [
      "Acne\n",
      "['1912385', '2031490', '1027499', '1754589', '2114932', '1614759', '1167147', '784603', '1375690', '1906106', '1027507', '1027473', '2026391', '2021871', '1446178', '2029353', '2083798', '1167139', '2114924', '1822709', '654293', '654301', '1737774', '1973635', '1524073', '1224724', '2058162', '1843754', '683136', '654277', '1953009', '2117166', '654236', '2070944', '1021930', '2114940', '2170892', '2083780', '2171056', '2065969', '2238277', '1747989', '2171080', '2189124', '1497858', '2073427', '1451038', '2171049', '1843788', '976043', '1748003']\n",
      "Acne\n",
      "['1406958', '2170959', '2113777', '2184950', '1747997', '1192889', '2061505', '1989276', '1408400', '1027572', '1614791', '2221208', '1408392', '1611359', '1843770', '1192921', '1933100', '1694173', '784421', '1837228', '1677137', '1629278', '2222859', '2228690', '2221216', '1989292', '445478', '1974153', '1159961', '2228708', '1989318', '1000462', '1735778', '2171023', '2046654', '1817972', '1989326', '2070852', '2021046', '1778364', '1605534', '1418557', '1940097', '2223998', '2053023', '1966373', '2172633', '1822683', '1712256']\n",
      "Dark Spots\n",
      "['2025633', '1765239', '1912385', '2166973', '2031508', '1862440', '2172617', '1862457', '2031383', '2031458', '1955640', '2051936', '2031466', '2170330', '1910587', '2170348', '1566124', '2031474', '1910579', '2065167', '1509512', '2031524', '2211902', '1207174', '2125888', '1246537', '1490333', '1014554', '1924604', '1448513', '1507565', '1021930', '654806', '1723832', '1680818', '1350016', '1658251', '1622430', '2059723', '2183481', '1989508', '1049170', '1892611', '1521079', '1686278', '1417294', '1591015', '1747708']\n",
      "Dark Circles\n",
      "['2111854', '2018984', '1932318', '2062081', '1408202', '2215960', '1585983', '2211514', '1997394', '1955640', '1868124', '2051928', '1966878', '1497841', '2072213', '1809318', '1328855', '2080182', '1922194', '1932326', '1863117', '2203917', '2129682', '1778844', '1983212', '2171940', '1932300', '1710276', '2020634', '1328038', '1754092', '2125722', '1600162', '2189389', '2175552', '1607076', '2014215', '1596659', '1375849', '1291988', '2117125', '1988724', '1862929', '876763', '1486836', '2058154', '1774819', '1755040', '2009272', '1747831', '2002301', '1968379', '1930791', '1966332', '1682194']\n",
      "Dark Circles\n",
      "['1280551', '1408145', '1862820', '1931708', '2051134', '1234897', '1564483', '1775378', '2030484', '2168094', '1484625', '2002194', '1862275', '2150233', '1916618', '2007300', '718270', '1675990', '1614841', '1009422', '1343391', '1324193', '1976497', '769836', '502443', '2052645', '1717883', '2075638', '1772821', '1784776', '1685908', '2075232', '1971316', '2167443', '1782523', '1287960', '2185106', '2105914', '2155497', '1634344', '2214146', '1670116', '1632199', '1644376', '1988880', '2122299', '655084', '1857341', '2210276', '2211977', '1929421', '1167204', '1916642', '2109601', '1780600', '1737881', '1716844', '1507557', '1899228', '2155455']\n",
      "Dark Circles\n",
      "['2028454', '1375583', '1815851', '1607084', '2163053', '1988898', '1660406', '1482637', '1605666', '1521335', '2137990', '2028546', '1976406', '2105872', '1566116', '2023133', '1724020', '952598', '1459130', '2002293', '1438787', '2070845', '503102', '1916287', '2077493', '1154509', '1674084', '2163046', '1658236', '2057081', '1675206', '1819945', '2206241', '1923846', '2215911', '2114486', '1572635', '2114809', '1658004', '1373299', '2058014', '2125854', '2047421', '1924802', '1841550', '1811645', '1804731', '1706191', '1898519', '2100030', '2185775', '2125797', '1986116', '2032068', '1944933', '1744630', '1564459', '2125656', '1862481', '2114601']\n"
     ]
    }
   ],
   "source": [
    "products = {}\n",
    "\n",
    "for i in range(len(num_pages)):\n",
    "    url = start_url[i]\n",
    "    category_products = []\n",
    "    for j in range(num_pages[i]):\n",
    "        curr_url = url + '?currentPage=' + str(j + 1)\n",
    "        page_html = scrape_tools.get_html(curr_url)\n",
    "        product_list = parse_category(page_html)\n",
    "        print(category[i])\n",
    "        print(product_list)\n",
    "        for k in product_list:\n",
    "            category_products.append(k)\n",
    "    products[category[i]] = category_products"
   ]
  },
  {
   "cell_type": "code",
   "execution_count": 25,
   "metadata": {},
   "outputs": [],
   "source": [
    "treatment_lookup = {'treatment_lookup': products}"
   ]
  },
  {
   "cell_type": "code",
   "execution_count": 26,
   "metadata": {},
   "outputs": [],
   "source": [
    "# save products to json\n",
    "product_file = open('treatment.json', 'w')  \n",
    "\n",
    "with open('treatment.json', 'w') as json_file:  \n",
    "    json.dump(treatment_lookup, json_file)"
   ]
  }
 ],
 "metadata": {
  "kernelspec": {
   "display_name": "Python 3",
   "language": "python",
   "name": "python3"
  },
  "language_info": {
   "codemirror_mode": {
    "name": "ipython",
    "version": 3
   },
   "file_extension": ".py",
   "mimetype": "text/x-python",
   "name": "python",
   "nbconvert_exporter": "python",
   "pygments_lexer": "ipython3",
   "version": "3.7.2"
  }
 },
 "nbformat": 4,
 "nbformat_minor": 2
}
