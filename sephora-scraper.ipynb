{
 "cells": [
  {
   "cell_type": "markdown",
   "metadata": {},
   "source": [
    "# Sephora Skincare Products Scraper\n",
    "\n",
    "This is a skincare product scraper that uses bs4 and regex to find save product information into json."
   ]
  },
  {
   "cell_type": "code",
   "execution_count": 1,
   "metadata": {},
   "outputs": [],
   "source": [
    "# importing required packages\n",
    "from bs4 import BeautifulSoup\n",
    "from selenium import webdriver\n",
    "import time\n",
    "\n",
    "import requests\n",
    "import pandas as pd\n",
    "import json\n",
    "import re "
   ]
  },
  {
   "cell_type": "code",
   "execution_count": 2,
   "metadata": {},
   "outputs": [],
   "source": [
    "def get_html(url):\n",
    "    sephora_page = requests.get(url)\n",
    "    return BeautifulSoup(sephora_page.content, 'lxml')"
   ]
  },
  {
   "cell_type": "code",
   "execution_count": 3,
   "metadata": {},
   "outputs": [],
   "source": [
    "def find_num_pages(sephora_html):\n",
    "    num_products = sephora_html.find('span', {'data-at': 'number_of_products'}).get_text()\n",
    "    num_products = int(re.findall('^\\D*(\\d+)', num_products)[0])\n",
    "    return round(num_products / 60)"
   ]
  },
  {
   "cell_type": "code",
   "execution_count": 4,
   "metadata": {},
   "outputs": [],
   "source": [
    "def find_product_urls(sephora_html): \n",
    "    script_string = sephora_html.find_all('script', {'type' : 'application/ld+json'})[1].get_text()\n",
    "    return re.findall('(?<=\"url\":\").*?(?=\\\")', script_string) "
   ]
  },
  {
   "cell_type": "code",
   "execution_count": 5,
   "metadata": {},
   "outputs": [],
   "source": [
    "def find_float(s):\n",
    "    result = ''\n",
    "    for i in s.split():\n",
    "        try:\n",
    "            #trying to convert i to float\n",
    "            result = float(i)\n",
    "            #break the loop if i is the first string that's successfully converted\n",
    "            break\n",
    "        except:\n",
    "            continue\n",
    "    return str(result)"
   ]
  },
  {
   "cell_type": "code",
   "execution_count": 12,
   "metadata": {},
   "outputs": [],
   "source": [
    "def parse_product(product_url):\n",
    "    product_page = requests.get(product_url)\n",
    "    product_html = BeautifulSoup(product_page.content, 'html.parser')\n",
    "\n",
    "    skin_types = ['Normal', 'Oily', 'Combination', 'Dry', 'Sensitive']\n",
    "    product_details = product_html.find('div', class_='css-pz80c5').get_text()\n",
    "\n",
    "    product_brand = product_html.find('span', class_='css-euydo4').get_text()\n",
    "    product_name = product_html.find('span', class_='css-0').get_text()\n",
    "    product_price = product_html.find('div', class_='css-14hdny6').get_text()\n",
    "    product_reviews = product_html.find('span', class_='css-2rg6q7').get_text()\n",
    "    product_likes = product_html.find('span', {'data-at' : 'product_love_count'}).get_text()\n",
    "    \n",
    "    product_image = \"https://www.sephora.com/\" + product_html.find('image')['xlink:href']\n",
    "    \n",
    "    product_script = product_html.find_all('script')[5].contents[0]\n",
    "    categories = re.findall('(?<=\"displayName\":\").*?(?=\\\")', product_script)\n",
    "    product_category = categories[1]\n",
    "    product_sub_category = categories[0]\n",
    "    \n",
    "    size_and_id = product_html.find('div', class_='css-1qf1va5').get_text()\n",
    "    product_id = re.search('(?<=ITEM ).*', size_and_id)[0]\n",
    "    \n",
    "    product_rating = ''\n",
    "    rating_text = product_html.find('div', class_='css-r17a09')['aria-label']\n",
    "    rating_regex = re.search('^\\D*(\\d+)', rating_text)\n",
    "    if rating_regex:\n",
    "        product_rating = rating_regex[0]\n",
    "    \n",
    "    rating_script = re.search('(?<=\"productRating\":).*?(?=\\,)', product_script)\n",
    "    if rating_script:\n",
    "        product_rating = rating_script[0]\n",
    "        \n",
    "    product_skin_types = []\n",
    "    for st in skin_types:\n",
    "        if st in product_details[0:300]:\n",
    "            product_skin_types.append(st)\n",
    "            \n",
    "    product_ingredients = ''\n",
    "    if (len(product_html.find_all('div', class_='css-pz80c5')) > 2):\n",
    "        product_ingredients = product_html.find_all('div', class_='css-pz80c5')[2].get_text()\n",
    "        product_ingredients = product_ingredients.strip().replace(u'\\xa0', u'') \\\n",
    "            .replace(u'\\u2028', u'').replace(u'\\r',u'').replace(u'\\t',u'')\n",
    "    return {\n",
    "        'id' : product_id,\n",
    "        'brand' : product_brand,\n",
    "        'name' : product_name,\n",
    "        'price' : product_price,\n",
    "        'likes' : product_likes,\n",
    "        'reviews': product_reviews,\n",
    "        'rating' : product_rating,\n",
    "        'product_url': product_url,\n",
    "        'image_url' : product_image,\n",
    "        'category' : product_category,\n",
    "        'sub_category' : product_sub_category,\n",
    "        'skin_types' : product_skin_types,\n",
    "        'ingredients' : product_ingredients\n",
    "    }"
   ]
  },
  {
   "cell_type": "code",
   "execution_count": 13,
   "metadata": {},
   "outputs": [
    {
     "data": {
      "text/plain": [
       "{'id': '2025633',\n",
       " 'brand': 'Drunk Elephant',\n",
       " 'name': 'Protini™ Polypeptide Moisturizer',\n",
       " 'price': '$68.00',\n",
       " 'likes': '147788',\n",
       " 'reviews': '2K reviews',\n",
       " 'rating': '4.1596',\n",
       " 'product_url': 'https://www.sephora.com/product/protini-tm-polypeptide-cream-P427421',\n",
       " 'image_url': 'https://www.sephora.com//productimages/sku/s2025633-main-Lhero.jpg',\n",
       " 'category': 'Moisturizers',\n",
       " 'sub_category': 'Moisturizers',\n",
       " 'skin_types': ['Normal', 'Oily', 'Combination', 'Dry'],\n",
       " 'ingredients': '-9 Signal Peptide Complex-Pygmy Waterlily Stem Cell Extract-Soybean Folic Acid Ferment Extract   Water, Dicaprylyl Carbonate, Glycerin, Cetearyl Alcohol, Cetearyl Olivate, Sorbitan Olivate, Sclerocarya Birrea Seed Oil, Bacillus/Soybean/ Folic Acid Ferment Extract, Nymphaea Alba Root Extract, sh-Oligopeptide-1, sh-Oligopeptide-2, sh-Polypeptide-1, sh-Polypeptide-9, sh-Polypeptide-11, Copper Palmitoyl Heptapeptide-14, Heptapeptide-15 Palmitate, Palmitoyl Tetrapeptide-7, Palmitoyl Tripeptide-1, Alanine, Arginine, Glycine, Histidine, Isoleucine, Phenylalanine, Proline, Serine, Threonine, Valine, Acetyl Glutamine, Coconut Alkanes, Coco-Caprylate/Caprate, Sodium Hyaluronate, Aspartic Acid, Linoleic Acid, Linolenic Acid, Lecithin, Butylene Glycol, Polyvinyl Alcohol, Sodium Lactate, Sodium PCA, PCA, Sorbitan Isostearate, Carbomer, Polysorbate 20, Polysorbate 60, Lactic Acid/Glycolic Acid Copolymer, Hydroxyethyl Acrylate/Sodium Acryloyldimethyl Taurate Copolymer, Xanthan Gum, Isomalt, 1,2-Hexanediol, Caprylyl Glycol, Chlorphenesin, Phenoxyethanol, Tocopherol, Sodium Benzoate, Phenylpropanol, Glyceryl Caprylate, Symphytum Officinale Callus Culture Extract.This product is vegan and gluten-free.'}"
      ]
     },
     "execution_count": 13,
     "metadata": {},
     "output_type": "execute_result"
    }
   ],
   "source": [
    "# testing parse function\n",
    "url = 'https://www.sephora.com/shop/moisturizing-cream-oils-mists'\n",
    "sephora_html = get_html(url)\n",
    "url1 = find_product_urls(sephora_html)[1]\n",
    "parse_product(url1)"
   ]
  },
  {
   "cell_type": "code",
   "execution_count": 14,
   "metadata": {},
   "outputs": [],
   "source": [
    "# categories to scrape on sephora\n",
    "\n",
    "start_url = ['https://www.sephora.com/shop/moisturizing-cream-oils-mists',\n",
    "            'https://www.sephora.com/shop/cleanser',\n",
    "            'https://www.sephora.com/shop/facial-treatments',\n",
    "            'https://www.sephora.com/shop/eye-treatment-dark-circle-treatment',\n",
    "            'https://www.sephora.com/shop/face-mask',\n",
    "            'https://www.sephora.com/shop/sunscreen-sun-protection',\n",
    "            'https://www.sephora.com/shop/self-tanning-products',\n",
    "            'https://www.sephora.com/shop/lip-treatments']\n",
    "\n",
    "product_categories = [\n",
    "    \"Moisturizers\",\n",
    "    \"Cleansers\",\n",
    "    \"Facial Treatments\",\n",
    "    \"Eye Treatments\",\n",
    "    \"Face Masks\",\n",
    "    \"Sunscreens\",\n",
    "    \"Self Tanners\",\n",
    "    \"Lip Treatments\"\n",
    "]"
   ]
  },
  {
   "cell_type": "code",
   "execution_count": 15,
   "metadata": {},
   "outputs": [],
   "source": [
    "# get the number of pages\n",
    "num_pages = []\n",
    "for url in start_url:\n",
    "    sephora_html = get_html(url)\n",
    "    num_pages.append(find_num_pages(sephora_html))"
   ]
  },
  {
   "cell_type": "code",
   "execution_count": 16,
   "metadata": {},
   "outputs": [
    {
     "data": {
      "text/plain": [
       "[14, 9, 10, 4, 6, 3, 1, 3]"
      ]
     },
     "execution_count": 16,
     "metadata": {},
     "output_type": "execute_result"
    }
   ],
   "source": [
    "# check num pages\n",
    "num_pages"
   ]
  },
  {
   "cell_type": "code",
   "execution_count": 17,
   "metadata": {},
   "outputs": [
    {
     "name": "stdout",
     "output_type": "stream",
     "text": [
      "scraping Moisturizers\n",
      "page 1 parse completed!\n",
      "page 2 parse completed!\n",
      "page 3 parse completed!\n",
      "page 4 parse completed!\n",
      "page 5 parse completed!\n",
      "page 6 parse completed!\n",
      "page 7 parse completed!\n",
      "page 8 parse completed!\n",
      "page 9 parse completed!\n",
      "page 10 parse completed!\n",
      "page 11 parse completed!\n",
      "page 12 parse completed!\n",
      "page 13 parse completed!\n",
      "page 14 parse completed!\n",
      "scraping Cleansers\n",
      "page 1 parse completed!\n",
      "page 2 parse completed!\n",
      "page 3 parse completed!\n",
      "page 4 parse completed!\n",
      "page 5 parse completed!\n",
      "page 6 parse completed!\n",
      "page 7 parse completed!\n",
      "page 8 parse completed!\n",
      "page 9 parse completed!\n",
      "scraping Facial Treatments\n",
      "page 1 parse completed!\n",
      "page 2 parse completed!\n",
      "page 3 parse completed!\n",
      "page 4 parse completed!\n",
      "page 5 parse completed!\n",
      "page 6 parse completed!\n",
      "page 7 parse completed!\n",
      "page 8 parse completed!\n",
      "page 9 parse completed!\n",
      "page 10 parse completed!\n",
      "scraping Eye Treatments\n",
      "page 1 parse completed!\n",
      "page 2 parse completed!\n",
      "page 3 parse completed!\n",
      "page 4 parse completed!\n",
      "scraping Face Masks\n",
      "page 1 parse completed!\n",
      "page 2 parse completed!\n",
      "page 3 parse completed!\n",
      "page 4 parse completed!\n",
      "page 5 parse completed!\n",
      "page 6 parse completed!\n",
      "scraping Sunscreens\n",
      "page 1 parse completed!\n",
      "page 2 parse completed!\n",
      "page 3 parse completed!\n",
      "scraping Self Tanners\n",
      "page 1 parse completed!\n",
      "scraping Lip Treatments\n",
      "page 1 parse completed!\n",
      "page 2 parse completed!\n",
      "page 3 parse completed!\n"
     ]
    }
   ],
   "source": [
    "all_products = {}\n",
    "for i in range(len(product_categories)):\n",
    "    print(\"scraping \" + product_categories[i])\n",
    "    url = start_url[i]\n",
    "    product_list = []\n",
    "    for j in range(num_pages[i]):\n",
    "        curr_url = url + '?currentPage=' + str(j)\n",
    "        page_html = get_html(curr_url)\n",
    "        product_urls = find_product_urls(page_html)\n",
    "        for k in range(len(product_urls)):\n",
    "            pu = product_urls[k]\n",
    "            product_list.append(parse_product(pu))\n",
    "        print(\"page \" + str(j + 1) + \" parse completed!\")\n",
    "    all_products[product_categories[i]] = product_list"
   ]
  },
  {
   "cell_type": "code",
   "execution_count": 21,
   "metadata": {},
   "outputs": [],
   "source": [
    "skincare = {'skincare_products': all_products}"
   ]
  },
  {
   "cell_type": "code",
   "execution_count": 22,
   "metadata": {},
   "outputs": [],
   "source": [
    "# save products to json\n",
    "product_file = open('products.json', 'w')  \n",
    "\n",
    "with open('products.json', 'w') as json_file:  \n",
    "    json.dump(skincare, json_file)"
   ]
  },
  {
   "cell_type": "code",
   "execution_count": null,
   "metadata": {},
   "outputs": [],
   "source": []
  }
 ],
 "metadata": {
  "kernelspec": {
   "display_name": "Python 3",
   "language": "python",
   "name": "python3"
  },
  "language_info": {
   "codemirror_mode": {
    "name": "ipython",
    "version": 3
   },
   "file_extension": ".py",
   "mimetype": "text/x-python",
   "name": "python",
   "nbconvert_exporter": "python",
   "pygments_lexer": "ipython3",
   "version": "3.7.2"
  }
 },
 "nbformat": 4,
 "nbformat_minor": 2
}
