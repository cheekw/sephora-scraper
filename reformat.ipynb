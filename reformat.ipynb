{
 "cells": [
  {
   "cell_type": "markdown",
   "metadata": {},
   "source": [
    "# Reformatting Data"
   ]
  },
  {
   "cell_type": "code",
   "execution_count": 2,
   "metadata": {},
   "outputs": [],
   "source": [
    "# import data\n",
    "import json"
   ]
  },
  {
   "cell_type": "code",
   "execution_count": 23,
   "metadata": {},
   "outputs": [],
   "source": [
    "# re-organizing into dictionary\n",
    "category_products = {}\n",
    "\n",
    "with open('products.json', 'r') as json_file:\n",
    "    data = json.load(json_file)\n",
    "    skincare = data[\"skincare_products\"]\n",
    "    for category in skincare:\n",
    "        category_products[category] = {}\n",
    "        for product in skincare[category]:\n",
    "            product_id = product['id'];\n",
    "            del product['id']\n",
    "            category_products[category][product_id] = product"
   ]
  },
  {
   "cell_type": "code",
   "execution_count": 27,
   "metadata": {},
   "outputs": [],
   "source": [
    "skincare = {'skincare_products': category_products}"
   ]
  },
  {
   "cell_type": "code",
   "execution_count": 28,
   "metadata": {},
   "outputs": [],
   "source": [
    "# save products to json\n",
    "product_file = open('formatted_products.json', 'w')  \n",
    "\n",
    "with open('formatted_products.json', 'w') as json_file:  \n",
    "    json.dump(skincare, json_file)"
   ]
  },
  {
   "cell_type": "markdown",
   "metadata": {},
   "source": [
    "counting"
   ]
  },
  {
   "cell_type": "code",
   "execution_count": 20,
   "metadata": {},
   "outputs": [
    {
     "name": "stdout",
     "output_type": "stream",
     "text": [
      "2568\n"
     ]
    }
   ],
   "source": [
    "category_products = {}\n",
    "unique = set()\n",
    "\n",
    "\n",
    "number = 0\n",
    "with open('formatted_products.json', 'r') as json_file:\n",
    "    data = json.load(json_file)\n",
    "    skincare = data[\"skincare_products\"]\n",
    "    for category in skincare:\n",
    "        category_products[category] = {}\n",
    "        for product in skincare[category]:\n",
    "            unique.add(product)\n",
    "print(len(unique))"
   ]
  },
  {
   "cell_type": "markdown",
   "metadata": {},
   "source": [
    "cleaning and fixing skin_types as key"
   ]
  },
  {
   "cell_type": "code",
   "execution_count": 30,
   "metadata": {
    "scrolled": false
   },
   "outputs": [],
   "source": [
    "category_products = {}\n",
    "\n",
    "with open('formatted_products.json', 'r') as json_file:\n",
    "    data = json.load(json_file)\n",
    "    skincare = data[\"skincare_products\"]\n",
    "    for category in skincare:\n",
    "        category_products[category] = {}\n",
    "        for product in skincare[category]:\n",
    "            \n",
    "            skin_types = {}\n",
    "            k = skincare[category]\n",
    "            \n",
    "            if (k[product]['skin_types']):\n",
    "                for skin in k[product]['skin_types']:\n",
    "                    skin_types[skin] = 0\n",
    "            else:\n",
    "                skin_types = ''\n",
    "                \n",
    "            k[product]['skin_types'] = skin_types\n",
    "            \n",
    "            category_products[category][product] = k[product]"
   ]
  },
  {
   "cell_type": "code",
   "execution_count": 33,
   "metadata": {},
   "outputs": [],
   "source": [
    "# save products to json\n",
    "product_file = open('formatted_products2.json', 'w')  \n",
    "\n",
    "with open('formatted_products.json', 'w') as json_file:  \n",
    "    json.dump(skincare, json_file)"
   ]
  }
 ],
 "metadata": {
  "kernelspec": {
   "display_name": "Python 3",
   "language": "python",
   "name": "python3"
  },
  "language_info": {
   "codemirror_mode": {
    "name": "ipython",
    "version": 3
   },
   "file_extension": ".py",
   "mimetype": "text/x-python",
   "name": "python",
   "nbconvert_exporter": "python",
   "pygments_lexer": "ipython3",
   "version": "3.7.2"
  }
 },
 "nbformat": 4,
 "nbformat_minor": 2
}
